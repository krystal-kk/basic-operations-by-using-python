{
 "cells": [
  {
   "cell_type": "code",
   "execution_count": 1,
   "metadata": {},
   "outputs": [
    {
     "name": "stdout",
     "output_type": "stream",
     "text": [
      "              image  MEL   NV  BCC  AKIEC  BKL   DF  VASC\n",
      "0      ISIC_0024306  0.0  1.0  0.0    0.0  0.0  0.0   0.0\n",
      "1      ISIC_0024307  0.0  1.0  0.0    0.0  0.0  0.0   0.0\n",
      "2      ISIC_0024308  0.0  1.0  0.0    0.0  0.0  0.0   0.0\n",
      "3      ISIC_0024309  0.0  1.0  0.0    0.0  0.0  0.0   0.0\n",
      "4      ISIC_0024310  1.0  0.0  0.0    0.0  0.0  0.0   0.0\n",
      "...             ...  ...  ...  ...    ...  ...  ...   ...\n",
      "10010  ISIC_0034316  1.0  0.0  0.0    0.0  0.0  0.0   0.0\n",
      "10011  ISIC_0034317  1.0  0.0  0.0    0.0  0.0  0.0   0.0\n",
      "10012  ISIC_0034318  0.0  0.0  0.0    0.0  1.0  0.0   0.0\n",
      "10013  ISIC_0034319  0.0  1.0  0.0    0.0  0.0  0.0   0.0\n",
      "10014  ISIC_0034320  0.0  1.0  0.0    0.0  0.0  0.0   0.0\n",
      "\n",
      "[10015 rows x 8 columns]\n"
     ]
    }
   ],
   "source": [
    "import shutil, os\n",
    "import pandas as pd\n",
    "\n",
    "#read csv file\n",
    "content = pd.read_csv(\"/home/jaran/Downloads/Train18_GT.csv\")\n",
    "print(content)"
   ]
  },
  {
   "cell_type": "code",
   "execution_count": 6,
   "metadata": {},
   "outputs": [
    {
     "name": "stdout",
     "output_type": "stream",
     "text": [
      "['ISIC_0024306', '0.0', '1.0', '0.0', '0.0', '0.0', '0.0', '0.0']\n",
      "10016\n"
     ]
    }
   ],
   "source": [
    "import csv\n",
    "r = csv.reader(open('/home/jaran/Downloads/Train18_GT.csv'))   #open an csv file\n",
    "line = list(r)   #change the csv file to a list\n",
    "print(line[1])\n",
    "print(len(line))"
   ]
  },
  {
   "cell_type": "code",
   "execution_count": 8,
   "metadata": {},
   "outputs": [],
   "source": [
    "for i in range(10016):\n",
    "    if line[i][1] == '1.0':\n",
    "        line[i][1] = 'MEL'\n",
    "    elif line[i][2] == '1.0':\n",
    "        line[i][1] = 'NV'\n",
    "    elif line[i][3] == '1.0':\n",
    "        line[i][1] = 'BCC'\n",
    "    elif line[i][4] == '1.0':\n",
    "        line[i][1] = 'AKIEC'\n",
    "    elif line[i][5] == '1.0':\n",
    "        line[i][1] = 'BKL'\n",
    "    elif line[i][6] == '1.0':\n",
    "        line[i][1] = 'DF'\n",
    "    elif line[i][7] == '1.0':\n",
    "        line[i][1] = 'VASC'"
   ]
  },
  {
   "cell_type": "code",
   "execution_count": 14,
   "metadata": {},
   "outputs": [],
   "source": [
    "# print(line)"
   ]
  },
  {
   "cell_type": "code",
   "execution_count": 10,
   "metadata": {},
   "outputs": [],
   "source": [
    "import pandas as pd\n",
    "data2 = pd.DataFrame(data = line,index = None)   #change a list to a csv file"
   ]
  },
  {
   "cell_type": "code",
   "execution_count": 11,
   "metadata": {},
   "outputs": [
    {
     "name": "stdout",
     "output_type": "stream",
     "text": [
      "                  0    1    2    3      4    5    6     7\n",
      "0             image  MEL   NV  BCC  AKIEC  BKL   DF  VASC\n",
      "1      ISIC_0024306   NV  1.0  0.0    0.0  0.0  0.0   0.0\n",
      "2      ISIC_0024307   NV  1.0  0.0    0.0  0.0  0.0   0.0\n",
      "3      ISIC_0024308   NV  1.0  0.0    0.0  0.0  0.0   0.0\n",
      "4      ISIC_0024309   NV  1.0  0.0    0.0  0.0  0.0   0.0\n",
      "...             ...  ...  ...  ...    ...  ...  ...   ...\n",
      "10011  ISIC_0034316  MEL  0.0  0.0    0.0  0.0  0.0   0.0\n",
      "10012  ISIC_0034317  MEL  0.0  0.0    0.0  0.0  0.0   0.0\n",
      "10013  ISIC_0034318  BKL  0.0  0.0    0.0  1.0  0.0   0.0\n",
      "10014  ISIC_0034319   NV  1.0  0.0    0.0  0.0  0.0   0.0\n",
      "10015  ISIC_0034320   NV  1.0  0.0    0.0  0.0  0.0   0.0\n",
      "\n",
      "[10016 rows x 8 columns]\n"
     ]
    }
   ],
   "source": [
    "print(data2)"
   ]
  },
  {
   "cell_type": "code",
   "execution_count": 12,
   "metadata": {},
   "outputs": [],
   "source": [
    "data2.to_csv('/home/jaran/Downloads/Train18_GT (copy).csv')   #save the csv file"
   ]
  },
  {
   "cell_type": "code",
   "execution_count": null,
   "metadata": {},
   "outputs": [],
   "source": []
  }
 ],
 "metadata": {
  "kernelspec": {
   "display_name": "Python 3",
   "language": "python",
   "name": "python3"
  },
  "language_info": {
   "codemirror_mode": {
    "name": "ipython",
    "version": 3
   },
   "file_extension": ".py",
   "mimetype": "text/x-python",
   "name": "python",
   "nbconvert_exporter": "python",
   "pygments_lexer": "ipython3",
   "version": "3.7.3"
  }
 },
 "nbformat": 4,
 "nbformat_minor": 4
}
