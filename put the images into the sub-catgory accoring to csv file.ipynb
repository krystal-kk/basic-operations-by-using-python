{
 "cells": [
  {
   "cell_type": "code",
   "execution_count": 8,
   "metadata": {},
   "outputs": [
    {
     "name": "stdout",
     "output_type": "stream",
     "text": [
      "          image_id  melanoma  seborrheic_keratosis\n",
      "0     ISIC_0000000         0                     0\n",
      "1     ISIC_0000001         0                     0\n",
      "2     ISIC_0000002         1                     0\n",
      "3     ISIC_0000003         0                     0\n",
      "4     ISIC_0000004         1                     0\n",
      "...            ...       ...                   ...\n",
      "1995  ISIC_0015220         0                     1\n",
      "1996  ISIC_0015233         0                     1\n",
      "1997  ISIC_0015260         0                     1\n",
      "1998  ISIC_0015284         1                     0\n",
      "1999  ISIC_0015295         0                     1\n",
      "\n",
      "[2000 rows x 3 columns]\n"
     ]
    }
   ],
   "source": [
    "import shutil, os\n",
    "import pandas as pd\n",
    "\n",
    "content = pd.read_csv(\"/home/jaran/Downloads/ISIC2017/Train_GT.csv\")\n",
    "print(content)"
   ]
  },
  {
   "cell_type": "code",
   "execution_count": 9,
   "metadata": {},
   "outputs": [],
   "source": [
    "category = ['melanoma', 'seborrheic_keratosis', 'nevi']\n",
    "all_images = '/home/jaran/Downloads/ISIC2017/orimage/'\n",
    "new_images = '/home/jaran/Downloads/ISIC2017/train/'\n",
    "for i in category:\n",
    "    os.makedirs(os.path.join(new_images, i))"
   ]
  },
  {
   "cell_type": "code",
   "execution_count": 11,
   "metadata": {},
   "outputs": [
    {
     "name": "stdout",
     "output_type": "stream",
     "text": [
      "['image_id', 'melanoma', 'seborrheic_keratosis']\n"
     ]
    }
   ],
   "source": [
    "content = pd.read_csv(\"/home/jaran/Downloads/ISIC2017/Train_GT.csv\")\n",
    "a = list(content)\n",
    "print(a)"
   ]
  },
  {
   "cell_type": "code",
   "execution_count": 18,
   "metadata": {},
   "outputs": [],
   "source": [
    "import csv\n",
    "result = []\n",
    "with open('/home/jaran/Downloads/ISIC2017/Train_GT.csv', 'r') as f:\n",
    "    reader = csv.reader(f)\n",
    "    result = list(reader)\n",
    "    for i in reader:\n",
    "        print(i)\n"
   ]
  },
  {
   "cell_type": "code",
   "execution_count": 44,
   "metadata": {},
   "outputs": [
    {
     "name": "stdout",
     "output_type": "stream",
     "text": [
      "<class 'str'> 0\n"
     ]
    }
   ],
   "source": [
    "print(type(result[1][1]), result[1][2])"
   ]
  },
  {
   "cell_type": "code",
   "execution_count": 50,
   "metadata": {},
   "outputs": [],
   "source": [
    "import csv\n",
    "import shutil, os\n",
    "import pandas as pd\n",
    "\n",
    "result = []\n",
    "with open('/home/jaran/Downloads/ISIC2017/Train_GT.csv', 'r') as f:\n",
    "    reader = csv.reader(f)\n",
    "    result = list(reader)\n",
    "\n",
    "category = ['melanoma', 'seborrheic_keratosis', 'nevi']\n",
    "all_images = '/home/jaran/Downloads/ISIC2017/orimage/'\n",
    "new_images = '/home/jaran/Downloads/ISIC2017/train/'\n",
    "\n",
    "\n",
    "for i in category:\n",
    "    os.makedirs(os.path.join(new_images, i))\n",
    "\n",
    "for i in range(2001):\n",
    "    if result[i][1]=='1' and result[i][2]=='0':\n",
    "        get_image = os.path.join(all_images, result[i][0]+'.jpg')\n",
    "        move_image = shutil.move(get_image, new_images+'melanoma')\n",
    "\n",
    "        \n",
    "    elif result[i][1]=='0' and result[i][2]=='1':\n",
    "        get_image = os.path.join(all_images, result[i][0]+'.jpg')\n",
    "        move_image = shutil.move(get_image, new_images+'seborrheic_keratosis')\n",
    "    \n",
    "    elif result[i][1]=='0' and result[i][2]=='0':\n",
    "        get_image = os.path.join(all_images, result[i][0]+'.jpg')\n",
    "        move_image = shutil.move(get_image, new_images+'nevi')\n",
    "        \n",
    "    else:\n",
    "        pass\n",
    "    "
   ]
  },
  {
   "cell_type": "code",
   "execution_count": null,
   "metadata": {},
   "outputs": [],
   "source": []
  }
 ],
 "metadata": {
  "kernelspec": {
   "display_name": "Python 3",
   "language": "python",
   "name": "python3"
  },
  "language_info": {
   "codemirror_mode": {
    "name": "ipython",
    "version": 3
   },
   "file_extension": ".py",
   "mimetype": "text/x-python",
   "name": "python",
   "nbconvert_exporter": "python",
   "pygments_lexer": "ipython3",
   "version": "3.7.3"
  }
 },
 "nbformat": 4,
 "nbformat_minor": 4
}
